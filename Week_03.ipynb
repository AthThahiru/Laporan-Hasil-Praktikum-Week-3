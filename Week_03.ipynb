{
  "cells": [
    {
      "cell_type": "markdown",
      "metadata": {
        "id": "view-in-github",
        "colab_type": "text"
      },
      "source": [
        "<a href=\"https://colab.research.google.com/github/AthThahiru/Laporan-Hasil-Praktikum-Week-3/blob/main/Week_03.ipynb\" target=\"_parent\"><img src=\"https://colab.research.google.com/assets/colab-badge.svg\" alt=\"Open In Colab\"/></a>"
      ]
    },
    {
      "cell_type": "markdown",
      "metadata": {
        "id": "v1f39IC_sNVg"
      },
      "source": []
    },
    {
      "cell_type": "code",
      "execution_count": null,
      "metadata": {
        "id": "JBH3kBLrredR"
      },
      "outputs": [],
      "source": []
    },
    {
      "cell_type": "markdown",
      "metadata": {
        "id": "-jA_-95-sOx2"
      },
      "source": [
        "## Output dasar python"
      ]
    },
    {
      "cell_type": "code",
      "execution_count": null,
      "metadata": {
        "colab": {
          "base_uri": "https://localhost:8080/"
        },
        "id": "CTTOu8kasSfy",
        "outputId": "c3da902d-951b-4be7-8d9e-825b915bf32e"
      },
      "outputs": [
        {
          "name": "stdout",
          "output_type": "stream",
          "text": [
            "Python itu ular :p\n"
          ]
        }
      ],
      "source": [
        "print(\"Python itu ular :p\")\n",
        "#print(objek= separator= end= file= flush=)"
      ]
    },
    {
      "cell_type": "code",
      "execution_count": null,
      "metadata": {
        "colab": {
          "base_uri": "https://localhost:8080/"
        },
        "id": "DMHI0OB-syvR",
        "outputId": "e4f0d752-6d7c-4b50-bdd2-8c8421ae2a53"
      },
      "outputs": [
        {
          "name": "stdout",
          "output_type": "stream",
          "text": [
            "Hello guys\n",
            "\n",
            "\n",
            "\t\n",
            "Welcome back to my vlog\n"
          ]
        }
      ],
      "source": [
        "print(\"Hello guys\")\n",
        "print(\"\\n\")\n",
        "print(\"\\t\")\n",
        "print(\"Welcome back to my vlog\")"
      ]
    },
    {
      "cell_type": "code",
      "execution_count": null,
      "metadata": {
        "colab": {
          "base_uri": "https://localhost:8080/"
        },
        "id": "9Zzm2m1ftTHr",
        "outputId": "6e13273d-d1c9-4b56-c6c9-099ab4ebb641"
      },
      "outputs": [
        {
          "name": "stdout",
          "output_type": "stream",
          "text": [
            "Hello guys"
          ]
        }
      ],
      "source": [
        "import sys\n",
        "\n",
        "sys.stdout.write(\"Hello guys\") # sys ribet :p"
      ]
    },
    {
      "cell_type": "code",
      "execution_count": null,
      "metadata": {
        "colab": {
          "base_uri": "https://localhost:8080/"
        },
        "id": "n_t8W55uts6F",
        "outputId": "7befc65c-2fce-4ce9-e1ba-dd2a7979700b"
      },
      "outputs": [
        {
          "name": "stdout",
          "output_type": "stream",
          "text": [
            "Pagi kak. Hari ini hujan ya?\n"
          ]
        }
      ],
      "source": [
        "print(\"Pagi kak. \", end = \"\")  # perintah , end = \"\" untuk menaikkan kalimat yang dibawah\n",
        "print(\"Hari ini hujan ya?\")"
      ]
    },
    {
      "cell_type": "code",
      "execution_count": null,
      "metadata": {
        "colab": {
          "base_uri": "https://localhost:8080/"
        },
        "id": "eCAgnWM1ugu1",
        "outputId": "2f14818b-4b52-43bc-a6a6-aaa970580766"
      },
      "outputs": [
        {
          "name": "stdout",
          "output_type": "stream",
          "text": [
            "Selamat tahun baru 2023 Sampai bertemu kembali\n",
            "Selamat tahun baru. 2023. Sampai bertemu kembali\n"
          ]
        }
      ],
      "source": [
        "print(\"Selamat tahun baru\", 2023, \"Sampai bertemu kembali\" )\n",
        "print(\"Selamat tahun baru\", 2023, \"Sampai bertemu kembali\", sep= \". \" )  # sep, \"untuk menyisipkan kata pada setiap jeda atau apalah itu\""
      ]
    },
    {
      "cell_type": "code",
      "execution_count": null,
      "metadata": {
        "colab": {
          "base_uri": "https://localhost:8080/"
        },
        "id": "Cg5ytrysvlHG",
        "outputId": "59fd0856-db38-4cf7-9fed-d9062e8d7333"
      },
      "outputs": [
        {
          "name": "stdout",
          "output_type": "stream",
          "text": [
            "5\n",
            "-10.6\n",
            "Teknologi Informasi\n"
          ]
        }
      ],
      "source": [
        "nomor      = -10.6\n",
        "nama       = \"Teknologi Informasi\"\n",
        "\n",
        "\n",
        "# Cetak biasa atau langsung\n",
        "print(5)\n",
        "\n",
        "# Cetak variabel\n",
        "print(nomor)\n",
        "print(nama)\n"
      ]
    },
    {
      "cell_type": "markdown",
      "metadata": {
        "id": "oXOaWGDFwzox"
      },
      "source": [
        "Cetak rangkaian kalimat yang digabungkan"
      ]
    },
    {
      "cell_type": "code",
      "execution_count": null,
      "metadata": {
        "colab": {
          "base_uri": "https://localhost:8080/"
        },
        "id": "tRYEWK1Ww5Ar",
        "outputId": "e11e65ee-ddf6-4c5d-95fa-3a25b6c1339c"
      },
      "outputs": [
        {
          "name": "stdout",
          "output_type": "stream",
          "text": [
            "Teknologi Informasi Universitas Tidar\n"
          ]
        }
      ],
      "source": [
        "print(\"Teknologi Informasi \" + \"Universitas Tidar\") # tanda + juga bisa untuk menggabung kan 2 kalimat"
      ]
    },
    {
      "cell_type": "code",
      "execution_count": null,
      "metadata": {
        "colab": {
          "base_uri": "https://localhost:8080/"
        },
        "id": "36GV1HopxRc7",
        "outputId": "ea553789-512e-4efa-c5a3-7a01fac56d5a"
      },
      "outputs": [
        {
          "name": "stdout",
          "output_type": "stream",
          "text": [
            "Nilai x = 5 dan nilai y = 10\n",
            "Nilai x = 5 dan nilai y = 10\n"
          ]
        }
      ],
      "source": [
        "x = (5)\n",
        "y = (10)\n",
        "\n",
        "print(\"Nilai x = {} dan nilai y = {}\". format(x,y))  # kalo format pakenya titik ya jangan koma\n",
        "print(\"Nilai x =\", x , \"dan nilai y =\", y)           # enak semua si tapi kayaknya lebih simpel yang format ya?\n",
        "\n"
      ]
    },
    {
      "cell_type": "markdown",
      "metadata": {
        "id": "BiqrUpCVzFPR"
      },
      "source": [
        "### Input dasar dalam python\n"
      ]
    },
    {
      "cell_type": "markdown",
      "metadata": {
        "id": "p8p6__JXzONZ"
      },
      "source": [
        "Sintaks input"
      ]
    },
    {
      "cell_type": "code",
      "execution_count": null,
      "metadata": {
        "colab": {
          "base_uri": "https://localhost:8080/"
        },
        "id": "nhtUl_lPyzUE",
        "outputId": "29133a6d-c6e8-43a0-8a64-d0337ba07a0c"
      },
      "outputs": [
        {
          "name": "stdout",
          "output_type": "stream",
          "text": [
            "Silahkan masukkan nomar anda 23\n",
            "Nomor anda adalah   : 23\n",
            "Type datanya adalah : <class 'str'>\n"
          ]
        }
      ],
      "source": [
        "nomor = input(\"Silahkan masukkan nomar anda \")\n",
        "print(\"Nomor anda adalah   :\", nomor)\n",
        "print(\"Type datanya adalah :\", type(nomor))\n",
        "\n",
        "# Mengapa type datanya masih str? Karena nomor termasuk huruf :p\n"
      ]
    },
    {
      "cell_type": "code",
      "execution_count": null,
      "metadata": {
        "colab": {
          "base_uri": "https://localhost:8080/"
        },
        "id": "J_aJLasF6VhC",
        "outputId": "c1100e99-9d77-4e76-d991-6de7298a8acd"
      },
      "outputs": [
        {
          "name": "stdout",
          "output_type": "stream",
          "text": [
            "Silahkan masukkan nomor anda: 23\n",
            "Nomor anda adalah           : 23\n",
            "Type datanya adalah         : <class 'int'>\n"
          ]
        }
      ],
      "source": [
        "# Maka\n",
        "\n",
        "nomor = int(input(\"Silahkan masukkan nomor anda: \"))\n",
        "print            (\"Nomor anda adalah           :\", nomor)\n",
        "print            (\"Type datanya adalah         :\", type(nomor))\n",
        "\n",
        "# Kode diatas jika dimasukkan huruf atau anga desimal bisa eror :v\n",
        "# Kode int bisa diganti dengan str atau float menyesuaikan dengan kebutuhan"
      ]
    },
    {
      "cell_type": "markdown",
      "metadata": {
        "id": "oKSS_T837WXf"
      },
      "source": [
        "## Membaca File Python\n"
      ]
    },
    {
      "cell_type": "markdown",
      "metadata": {
        "id": "uGqR11AE8r-P"
      },
      "source": [
        "Unduh data\n"
      ]
    },
    {
      "cell_type": "code",
      "execution_count": null,
      "metadata": {
        "colab": {
          "base_uri": "https://localhost:8080/"
        },
        "id": "XVgOkCmp6pG5",
        "outputId": "ef2702b5-d710-40ba-e69d-8b7ca9af91f4"
      },
      "outputs": [
        {
          "output_type": "stream",
          "name": "stdout",
          "text": [
            "Collecting wget\n",
            "  Downloading wget-3.2.zip (10 kB)\n",
            "  Preparing metadata (setup.py) ... \u001b[?25l\u001b[?25hdone\n",
            "Building wheels for collected packages: wget\n",
            "  Building wheel for wget (setup.py) ... \u001b[?25l\u001b[?25hdone\n",
            "  Created wheel for wget: filename=wget-3.2-py3-none-any.whl size=9656 sha256=6156ec8e94f589469c915983d16950824b669e4eba9cb6570188fe7f1c1e91cf\n",
            "  Stored in directory: /root/.cache/pip/wheels/8b/f1/7f/5c94f0a7a505ca1c81cd1d9208ae2064675d97582078e6c769\n",
            "Successfully built wget\n",
            "Installing collected packages: wget\n",
            "Successfully installed wget-3.2\n"
          ]
        }
      ],
      "source": [
        "# Untuk nginstal Python :p\n",
        "\n",
        "!pip install wget\n"
      ]
    },
    {
      "cell_type": "code",
      "execution_count": null,
      "metadata": {
        "colab": {
          "base_uri": "https://localhost:8080/"
        },
        "id": "3kpWsIGV7xqh",
        "outputId": "48bfac92-123a-4838-ed72-3695d71c68f2"
      },
      "outputs": [
        {
          "name": "stdout",
          "output_type": "stream",
          "text": [
            "--2024-09-06 01:33:54--  https://s3-api.us-geo.objectstorage.softlayer.net/cf-courses-data/CognitiveClass/PY0101EN/labs/example1.txt\n",
            "Resolving s3-api.us-geo.objectstorage.softlayer.net (s3-api.us-geo.objectstorage.softlayer.net)... 67.228.254.196\n",
            "Connecting to s3-api.us-geo.objectstorage.softlayer.net (s3-api.us-geo.objectstorage.softlayer.net)|67.228.254.196|:443... connected.\n",
            "HTTP request sent, awaiting response... 200 OK\n",
            "Length: 45 [text/plain]\n",
            "Saving to: ‘/resources/data/Example1.txt’\n",
            "\n",
            "/resources/data/Exa 100%[===================>]      45  --.-KB/s    in 0s      \n",
            "\n",
            "2024-09-06 01:33:54 (11.1 MB/s) - ‘/resources/data/Example1.txt’ saved [45/45]\n",
            "\n"
          ]
        }
      ],
      "source": [
        "# Untuk mengunduh contoh file\n",
        "\n",
        "!mkdir -p /resources/data\n",
        "!wget  -O /resources/data/Example1.txt https://s3-api.us-geo.objectstorage.softlayer.net/cf-courses-data/CognitiveClass/PY0101EN/labs/example1.txt"
      ]
    },
    {
      "cell_type": "markdown",
      "metadata": {
        "id": "xDdF4Oy58ugu"
      },
      "source": [
        "Membaca file teks"
      ]
    },
    {
      "cell_type": "code",
      "execution_count": null,
      "metadata": {
        "colab": {
          "base_uri": "https://localhost:8080/"
        },
        "id": "xuqcWqO_AQbK",
        "outputId": "564c0051-5d32-40d9-a635-cb08cd5ae16d"
      },
      "outputs": [
        {
          "name": "stdout",
          "output_type": "stream",
          "text": [
            "Drive already mounted at /content/drive; to attempt to forcibly remount, call drive.mount(\"/content/drive\", force_remount=True).\n"
          ]
        }
      ],
      "source": [
        "# Blm smpet nyobain smua :p"
      ]
    },
    {
      "cell_type": "markdown",
      "source": [
        "## Latihan Mingguan 1\n"
      ],
      "metadata": {
        "id": "tKozr6kehdqc"
      }
    },
    {
      "cell_type": "code",
      "source": [
        "# Membuat ddirectori\n",
        "!mkdir -p  /resources/data"
      ],
      "metadata": {
        "id": "1O-gNXP5hdT3"
      },
      "execution_count": null,
      "outputs": []
    },
    {
      "cell_type": "code",
      "source": [
        "# Menulis Biodata\n",
        "\n",
        "with open   (\"/resources/data/biodata.txt\", \"w\") as file:\n",
        "  file.write(\"Nama              : Muhammad Fikrie Ath Thahiru\\n\")\n",
        "  file.write(\"Program Studi     : Teknologi Informasi\\n\")\n",
        "  file.write(\"NPM               : 2420506044\\n\")\n",
        "  file.write(\"Alamat            : Perum Bagongan Asri Jl. Pandawa A.05\\n\")\n",
        "  file.write(\"Hobi              : Main Game & Membaca Novel\\n\")\n",
        "  file.write(\"Email             : fikrie.kdsmgl@gmail.com\\n\")\n"
      ],
      "metadata": {
        "id": "IS-nho7HRyGQ"
      },
      "execution_count": null,
      "outputs": []
    },
    {
      "cell_type": "code",
      "source": [
        "# Mendisplay Biodata\n",
        "\n",
        "with open(\"/resources/data/biodata.txt\", \"r\") as file:\n",
        "  print(file.read())"
      ],
      "metadata": {
        "colab": {
          "base_uri": "https://localhost:8080/"
        },
        "id": "CcKih4bdXYhu",
        "outputId": "e3cefc3f-be25-4c4a-80a2-15d717597754"
      },
      "execution_count": null,
      "outputs": [
        {
          "output_type": "stream",
          "name": "stdout",
          "text": [
            "Nama              : Muhammad Fikrie Ath Thahiru\n",
            "Program Studi     : Teknologi Informasi\n",
            "NPM               : 2420506044\n",
            "Alamat            : Perum Bagongan Asri Jl. Pandawa A.05\n",
            "Hobi              : Main Game & Membaca Novel\n",
            "Email             : fikrie.kdsmgl@gmail.com\n",
            "\n"
          ]
        }
      ]
    },
    {
      "cell_type": "code",
      "source": [
        "# Mendisplay Nama, prodi, dan email\n",
        "\n",
        "with open(\"/resources/data/biodata.txt\", \"r\") as file:\n",
        "  for line in file:\n",
        "    if \"Nama\" in line or \"Program Studi\" in line or \"Email\" in line:\n",
        "      print(line)\n"
      ],
      "metadata": {
        "colab": {
          "base_uri": "https://localhost:8080/"
        },
        "id": "MbQ2u7VIbNrW",
        "outputId": "b9906529-afbb-46d7-b643-6be3633d5dc4"
      },
      "execution_count": null,
      "outputs": [
        {
          "output_type": "stream",
          "name": "stdout",
          "text": [
            "Nama              : Muhammad Fikrie Ath Thahiru\n",
            "\n",
            "Program Studi     : Teknologi Informasi\n",
            "\n",
            "Email             : fikrie.kdsmgl@gmail.com\n",
            "\n"
          ]
        }
      ]
    },
    {
      "cell_type": "code",
      "source": [
        "# Mengambil data dan menyimpannya ke dalam file baru\n",
        "\n",
        "with open(\"/resources/data/biodata.txt\", \"r\") as file1:\n",
        "  with open(\"/resources/data/biodata1.txt\", \"w\") as file2:\n",
        "    for line in file1:\n",
        "      if \"Nama\" in line or \"NPM\" in line or \"Program Studi\" in line or \"Alamat\" in line:\n",
        "        file2.write(line)\n"
      ],
      "metadata": {
        "id": "Bgni6mafcfHP"
      },
      "execution_count": null,
      "outputs": []
    },
    {
      "cell_type": "code",
      "source": [
        "# Menampilkan isi file baru:v\n",
        "\n",
        "with open(\"/resources/data/biodata1.txt\", \"r\") as file:\n",
        "  print(file.read())"
      ],
      "metadata": {
        "colab": {
          "base_uri": "https://localhost:8080/"
        },
        "id": "ay8zOVk_f_C6",
        "outputId": "d46b575e-fb9b-46ad-bc9b-579cab3fc5ce"
      },
      "execution_count": null,
      "outputs": [
        {
          "output_type": "stream",
          "name": "stdout",
          "text": [
            "Nama              : Muhammad Fikrie Ath Thahiru\n",
            "Program Studi     : Teknologi Informasi\n",
            "NPM               : 2420506044\n",
            "Alamat            : Perum Bagongan Asri Jl. Pandawa A.05\n",
            "\n"
          ]
        }
      ]
    },
    {
      "cell_type": "markdown",
      "metadata": {
        "id": "Beh_-laRGSeT"
      },
      "source": [
        "## Latihan Mingguan 2"
      ]
    },
    {
      "cell_type": "code",
      "execution_count": null,
      "metadata": {
        "colab": {
          "base_uri": "https://localhost:8080/"
        },
        "id": "ydNTKUAFGU11",
        "outputId": "578869cb-15d5-4598-f09a-cdeefffbf06f"
      },
      "outputs": [
        {
          "output_type": "stream",
          "name": "stdout",
          "text": [
            "Selamat datang di Toko Maju Jaya\n",
            "Senin, 4 September 2023 13.05\n",
            "\n",
            "\n",
            "DAFTAR BELANJA :\n",
            "Sabun      = Rp 10000\n",
            "Shampo     = Rp 15000\n",
            "Mie Instan = Rp 5000\n",
            "Deterjen   = Rp 17500\n",
            "\n",
            "\n",
            "Total      = Rp 47500\n"
          ]
        }
      ],
      "source": [
        "\n",
        "print   (\"Selamat datang di Toko Maju Jaya\")\n",
        "print   (\"Senin, 4 September 2023 13.05\")\n",
        "\n",
        "print   (\"\\n\")\n",
        "\n",
        "print   (\"DAFTAR BELANJA :\")\n",
        "\n",
        "# Variabel item\n",
        "\n",
        "item1   = \"Sabun\"\n",
        "item2   = \"Shampo\"\n",
        "item3   = \"Mie Instan\"\n",
        "item4   = \"Deterjen\"\n",
        "\n",
        "# Variabel harga\n",
        "\n",
        "harga1  = 10000\n",
        "harga2  = 15000\n",
        "harga3  = 5000\n",
        "harga4  = 17500\n",
        "\n",
        "# Proses data\n",
        "\n",
        "total   = harga1 + harga2 + harga3 + harga4\n",
        "\n",
        "# Output\n",
        "\n",
        "print   (item1, \"     = Rp\"  , harga1)\n",
        "print   (item2, \"    = Rp\"   , harga2)\n",
        "print   (item3, \"= Rp\"       , harga3)\n",
        "print   (item4, \"  = Rp\"     , harga4)\n",
        "\n",
        "print   (\"\\n\")\n",
        "\n",
        "print   (\"Total      = Rp\"   , total)\n",
        "\n",
        "with open(\"Kuitansi.txt\", \"w\") as writefile:\n",
        "  writefile.write(\"Selamat Datang di Toko Maju Jaya\\n\")\n",
        "  writefile.write(\"\\n\")\n",
        "  writefile.write(\"Kuitansi - September 2023\\n\")\n",
        "  writefile.write(\"\\n\")\n",
        "  writefile.write(item1 + \"      = Rp\" + str(harga1) + \"\\n\")\n",
        "  writefile.write(item2 + \"     = Rp\"  + str(harga2) + \"\\n\")\n",
        "  writefile.write(item3 + \" = Rp\"      + str(harga3) + \"\\n\")\n",
        "  writefile.write(item4 + \"   = Rp\"    + str(harga4) + \"\\n\")\n",
        "  writefile.write(\"\\n\")\n",
        "  writefile.write(\"Total       = Rp\"   + str(total)  + \"\\n\")"
      ]
    },
    {
      "cell_type": "code",
      "execution_count": null,
      "metadata": {
        "id": "Q-5VxORaHbiL"
      },
      "outputs": [],
      "source": []
    }
  ],
  "metadata": {
    "colab": {
      "provenance": [],
      "authorship_tag": "ABX9TyOr+UCm5EmPCC2gGLbE77KQ",
      "include_colab_link": true
    },
    "kernelspec": {
      "display_name": "Python 3",
      "name": "python3"
    },
    "language_info": {
      "name": "python"
    }
  },
  "nbformat": 4,
  "nbformat_minor": 0
}